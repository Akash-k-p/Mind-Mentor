{
 "cells": [
  {
   "cell_type": "code",
   "execution_count": 3,
   "id": "b8372ef9",
   "metadata": {},
   "outputs": [
    {
     "name": "stdout",
     "output_type": "stream",
     "text": [
      "^C\n"
     ]
    }
   ],
   "source": [
    "!pip install git+https://github.com/openai/whisper.git "
   ]
  },
  {
   "cell_type": "code",
   "execution_count": 4,
   "id": "1cd40465",
   "metadata": {
    "scrolled": true
   },
   "outputs": [
    {
     "ename": "NameError",
     "evalue": "name '__file__' is not defined",
     "output_type": "error",
     "traceback": [
      "\u001b[1;31m---------------------------------------------------------------------------\u001b[0m",
      "\u001b[1;31mNameError\u001b[0m                                 Traceback (most recent call last)",
      "Cell \u001b[1;32mIn [4], line 6\u001b[0m\n\u001b[0;32m      2\u001b[0m \u001b[38;5;28;01mimport\u001b[39;00m \u001b[38;5;21;01mos\u001b[39;00m\n\u001b[0;32m      4\u001b[0m \u001b[38;5;66;03m# created this logic to get the real path to the file\u001b[39;00m\n\u001b[1;32m----> 6\u001b[0m current_dir \u001b[38;5;241m=\u001b[39m os\u001b[38;5;241m.\u001b[39mpath\u001b[38;5;241m.\u001b[39mdirname(os\u001b[38;5;241m.\u001b[39mpath\u001b[38;5;241m.\u001b[39mabspath(\u001b[38;5;18;43m__file__\u001b[39;49m))\n\u001b[0;32m      7\u001b[0m file_name \u001b[38;5;241m=\u001b[39m \u001b[38;5;124m\"\u001b[39m\u001b[38;5;124mharvard_1.wav\u001b[39m\u001b[38;5;124m\"\u001b[39m\n\u001b[0;32m      8\u001b[0m file_path \u001b[38;5;241m=\u001b[39m os\u001b[38;5;241m.\u001b[39mpath\u001b[38;5;241m.\u001b[39mjoin(current_dir, file_name)\n",
      "\u001b[1;31mNameError\u001b[0m: name '__file__' is not defined"
     ]
    }
   ],
   "source": [
    "import whisper\n",
    "import os\n",
    "\n",
    "# created this logic to get the real path to the file\n",
    "\n",
    "current_dir = os.path.dirname(os.path.abspath(__file__))\n",
    "file_name = \"harvard_1.wav\"\n",
    "file_path = os.path.join(current_dir, file_name)\n",
    "print(file_path)\n",
    "\n",
    "listen = file_path"
   ]
  },
  {
   "cell_type": "code",
   "execution_count": null,
   "id": "021f3c9c",
   "metadata": {},
   "outputs": [],
   "source": [
    "# the transcript logic:\n",
    "\n",
    "\n",
    "\n",
    "def transcribe():\n",
    "    model = whisper.load_model(\"large\")\n",
    "    result = model.transcribe(listen)\n",
    "    print(result[\"text\"])\n",
    "    return result\n",
    "\n",
    "# Thanks for now\n",
    "\n",
    "# By the way, I tried this:\n",
    "\n",
    "# current_dir = os.path.dirname(os.path.abspath(__file__))\n",
    "# file_name = \"audio.wav\"\n",
    "# file_path = os.path.join(current_dir, file_name)\n",
    "# print(file_path)"
   ]
  },
  {
   "cell_type": "code",
   "execution_count": null,
   "id": "afc0b6ed",
   "metadata": {},
   "outputs": [],
   "source": [
    "\n",
    "try:\n",
    "    result = transcribe()\n",
    "    with open(\"transcript.txt\", \"w\") as file:\n",
    "        file.write(result[\"text\"])\n",
    "    print(\"file saved\")\n",
    "except FileNotFoundError:\n",
    "    print(\"file not found.\")\n",
    "except PermissionError:\n",
    "    print(\"Not permitted to save file.\")\n",
    "except Exception as e:\n",
    "    print(\"An unknow error occured:\", str(e))\n",
    "finally:\n",
    "    print(\"exiting process.\")"
   ]
  }
 ],
 "metadata": {
  "kernelspec": {
   "display_name": "Python 3 (ipykernel)",
   "language": "python",
   "name": "python3"
  },
  "language_info": {
   "codemirror_mode": {
    "name": "ipython",
    "version": 3
   },
   "file_extension": ".py",
   "mimetype": "text/x-python",
   "name": "python",
   "nbconvert_exporter": "python",
   "pygments_lexer": "ipython3",
   "version": "3.11.0"
  }
 },
 "nbformat": 4,
 "nbformat_minor": 5
}
